{
 "cells": [
  {
   "cell_type": "code",
   "execution_count": 16,
   "metadata": {},
   "outputs": [
    {
     "name": "stdout",
     "output_type": "stream",
     "text": [
      "trisonics-team.csv\n"
     ]
    }
   ],
   "source": [
    "import sys\n",
    "import json\n",
    "import pandas as pd\n",
    "\n",
    "\n",
    "sys.argv[1] = 'trisonics-team.csv'\n",
    "roster_df = None\n",
    "if len(sys.argv) <= 1:\n",
    "   print(\"No arguments were given\")\n",
    "   sys.exit(-1)\n",
    "else:\n",
    "    for arg in sys.argv[1:]:\n",
    "        print(arg)\n",
    "        df = pd.read_csv(arg)\n",
    "        roster_df = df if roster_df is None else pd.concat([roster_df, df])\n",
    "\n",
    "# Drop all rows where the Name column is empty\n",
    "roster_df = roster_df.dropna(subset=['Name'])\n",
    "# Check if badges.json exists\n",
    "try:\n",
    "    with open('badges.json', 'r') as f:\n",
    "        existing = json.load(f)\n",
    "except FileNotFoundError:\n",
    "    existing = {}\n"
   ]
  },
  {
   "cell_type": "code",
   "execution_count": 17,
   "metadata": {},
   "outputs": [
    {
     "name": "stdout",
     "output_type": "stream",
     "text": [
      "Abdul already has a badge\n",
      "Adam H already has a badge\n",
      "Adrien Dana already has a badge\n",
      "Aiden Michaud already has a badge\n",
      "Alexander Hernandez already has a badge\n",
      "Braden Pfeiffer already has a badge\n",
      "Brayden Roach already has a badge\n",
      "Caleb Harkes already has a badge\n",
      "Casey Scott already has a badge\n",
      "Chloe Taylor already has a badge\n",
      "Cole Mausolf already has a badge\n",
      "Dane Sprague already has a badge\n",
      "Evan Scholma already has a badge\n",
      "Gavin Thomsen already has a badge\n",
      "Hunter already has a badge\n",
      "Isaac Berens already has a badge\n",
      "Isaac Busman already has a badge\n",
      "Jake Sprague already has a badge\n",
      "Jonathan Dowd already has a badge\n",
      "Lilli Mangimeli already has a badge\n",
      "Lydia Haywood already has a badge\n",
      "Matthew Torrey already has a badge\n",
      "Miriam Haywood already has a badge\n",
      "Naomie Kettring already has a badge\n",
      "Nathaniel Burgess already has a badge\n",
      "Noah Venema already has a badge\n",
      "Nolan Johnson already has a badge\n",
      "Orry Johnson already has a badge\n",
      "Parker Selvius already has a badge\n",
      "Sarah Dowd already has a badge\n",
      "ShayLi DeLore already has a badge\n",
      "Tess Zuniga already has a badge\n",
      "Weston Haisma already has a badge\n",
      "Wyatt Bectel already has a badge\n"
     ]
    }
   ],
   "source": [
    "# iterate through roster_df and print the Name value for eaach row\n",
    "stock_cols = ['Name', 'BadgeID', 'PhotoURL']\n",
    "for index, row in roster_df.iterrows():\n",
    "    name = row['Name']\n",
    "    badge = row['BadgeID']\n",
    "    alt_keys = []\n",
    "    for col in roster_df.columns:\n",
    "        if col not in stock_cols:\n",
    "            val = row[col]\n",
    "            if pd.isna(val):\n",
    "                continue\n",
    "            if col == 'RFIDTag':\n",
    "                val = f'{int(val):010}'\n",
    "            alt_keys.append(val)\n",
    "    url = row['PhotoURL']\n",
    "    url = '' if pd.isna(url) else url\n",
    "    if badge in existing:\n",
    "        print(f\"{name} already has a badge\")\n",
    "    else:\n",
    "        print(f\"{name} does not have a badge {badge}\")\n",
    "        existing[badge] = {\n",
    "            'display_name': name,\n",
    "            'status': 'out',\n",
    "        }\n",
    "    existing[badge]['photo_url'] = url \n",
    "    existing[badge]['alt_keys'] = alt_keys"
   ]
  },
  {
   "cell_type": "code",
   "execution_count": 18,
   "metadata": {},
   "outputs": [],
   "source": [
    "json.dump(existing, open('badges.json', 'w'), indent=4, sort_keys=True)\n"
   ]
  }
 ],
 "metadata": {
  "kernelspec": {
   "display_name": "venv",
   "language": "python",
   "name": "python3"
  },
  "language_info": {
   "codemirror_mode": {
    "name": "ipython",
    "version": 3
   },
   "file_extension": ".py",
   "mimetype": "text/x-python",
   "name": "python",
   "nbconvert_exporter": "python",
   "pygments_lexer": "ipython3",
   "version": "3.11.2"
  }
 },
 "nbformat": 4,
 "nbformat_minor": 2
}
