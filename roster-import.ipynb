{
 "cells": [
  {
   "cell_type": "code",
   "execution_count": 28,
   "metadata": {},
   "outputs": [
    {
     "name": "stdout",
     "output_type": "stream",
     "text": [
      "trisonics-team.csv\n",
      "trisonics-mentors.csv\n",
      "trisonics-mentors.csv\n"
     ]
    }
   ],
   "source": [
    "import sys\n",
    "import json\n",
    "import pandas as pd\n",
    "\n",
    "\n",
    "sys.argv[1] = 'trisonics-team.csv'\n",
    "sys.argv.append('trisonics-mentors.csv')\n",
    "\n",
    "roster_df = None\n",
    "if len(sys.argv) <= 1:\n",
    "   print(\"No arguments were given\")\n",
    "   sys.exit(-1)\n",
    "else:\n",
    "    for arg in sys.argv[1:]:\n",
    "        print(arg)\n",
    "        df = pd.read_csv(arg)\n",
    "        roster_df = df if roster_df is None else pd.concat([roster_df, df])\n",
    "\n",
    "# Drop all rows where the Name column is empty\n",
    "roster_df = roster_df.dropna(subset=['Name'])\n",
    "# Check if badges.json exists\n",
    "try:\n",
    "    with open('badges.json', 'r') as f:\n",
    "        existing = json.load(f)\n",
    "except FileNotFoundError:\n",
    "    existing = {}"
   ]
  },
  {
   "cell_type": "code",
   "execution_count": 29,
   "metadata": {},
   "outputs": [
    {
     "name": "stdout",
     "output_type": "stream",
     "text": [
      "Abdul does not have a badge 30d7c26f-86b6-4f8e-879c-aea09cca20ed\n",
      "Adam H does not have a badge ca20f81b-327b-4c62-b04a-df213ce3df1b\n",
      "Adrien Dana does not have a badge dbdc2efd-238c-4877-aa79-36c4f780b0d4\n",
      "Aiden Michaud does not have a badge da54f58e-7066-4745-a462-39e01b737201\n",
      "Alexander Hernandez does not have a badge 07dc567c-51be-4263-8072-6138bf165c4f\n",
      "Braden Pfeiffer does not have a badge 1589196e-e26a-41b5-8a2b-388383b691ab\n",
      "Brayden Roach does not have a badge a8d25d9e-084e-41cf-be47-208a0f6fb0d1\n",
      "Caleb Harkes does not have a badge 66d8caf3-1dd8-4714-8f8a-ac34a23cacda\n",
      "Casey Scott does not have a badge 686de33d-6ad6-4b3d-824e-4643d952ae3a\n",
      "Chloe Taylor does not have a badge d6aa4825-1e7d-4438-ad15-3a9895832e8a\n",
      "Cole Mausolf does not have a badge c4da9a5f-a8ff-4cc1-83f3-97ca25c8aade\n",
      "Dane Sprague does not have a badge 151ab425-5022-4280-be2c-ae4acc1272b1\n",
      "Evan Scholma does not have a badge cfd44bc0-78a0-4186-821c-a7de13544032\n",
      "Gavin Thomsen does not have a badge 3b94be93-b1c4-447e-8b75-da9038dd4802\n",
      "Hunter does not have a badge 1ee3faa3-972b-46f2-8aee-5ad3573c7de5\n",
      "Isaac Berens does not have a badge ca76bb27-540f-4667-847d-6eb0464a8938\n",
      "Isaac Busman does not have a badge 04151665-47c8-432f-acce-9d6b5ae5763b\n",
      "Jake Sprague does not have a badge d56876ba-713b-4205-bb2d-1906ce14711b\n",
      "Jonathan Dowd does not have a badge 1860701d-93f9-41f0-b585-cae84d09fa5d\n",
      "Lilli Mangimeli does not have a badge 45b347d4-a4cf-4c25-a04b-ce1442c94d50\n",
      "Lydia Haywood does not have a badge f65e01e7-2e37-411f-8ddc-49bbbd50b6ac\n",
      "Matthew Torrey does not have a badge 1e54f456-26f1-495e-828d-5807e622a3a0\n",
      "Miriam Haywood does not have a badge 9c0aa569-be99-41b2-a650-fec48e346e80\n",
      "Naomie Kettring does not have a badge 99ad467b-f7a8-4f64-aaf0-1b641ca393ac\n",
      "Nathaniel Burgess does not have a badge 8a0d85f4-069b-45b1-b1c9-4467a96d478b\n",
      "Noah Venema does not have a badge 2962a42d-e418-4660-a91a-6bdb0bb3d41c\n",
      "Nolan Johnson does not have a badge 457f0fd5-6428-441e-8a86-233b0f2d9ebc\n",
      "Orry Johnson does not have a badge 49ac7dda-832b-431f-9b5f-1ba87fb6e019\n",
      "Parker Selvius does not have a badge 3fb2153a-f778-4246-89c9-30a1be378c48\n",
      "Sarah Dowd does not have a badge 4f83c3d3-8d68-4053-aa09-ae771efa66e0\n",
      "ShayLi DeLore does not have a badge 268afa3a-48f5-48cd-a336-25952ac2c3ae\n",
      "Tess Zuniga does not have a badge 45915204-3591-4bc0-bc18-e0d64e636ac4\n",
      "Weston Haisma does not have a badge 50f6498b-a211-4a41-b539-3f25f9227220\n",
      "Wyatt Bectel does not have a badge ee459478-bd24-4e7a-a03d-9b4fa29d14fd\n",
      "Juist Buist does not have a badge 40272587-54b9-4cd6-8926-4f64d9b4e5b2\n",
      "Chad Potinsky does not have a badge e5b78a7b-dee2-42cb-a8b7-0d7021d4811f\n",
      "Dan VanLopik does not have a badge 7cc10943-4e0b-4730-91bb-23a672cf6a0e\n",
      "Aaron Dana does not have a badge 66046191-9778-4414-9427-d3456f110ac5\n",
      "Ethan Potinsky does not have a badge 90738125-7b15-4c7e-b415-f0fd761d7034\n",
      "Ethan Dowd does not have a badge 9f34caf5-4aed-43a1-ac02-032aa3924fa4\n",
      "Jim Dowd does not have a badge 3b74f139-3bdb-4952-9015-29eb23761d8a\n",
      "Doug Diephouse does not have a badge f9a80374-784b-481b-9a66-87b976a8e54a\n",
      "Elijah Hadberg does not have a badge b7771e3a-9c18-4bce-8eb4-f11745dede6b\n",
      "Juist Buist already has a badge\n",
      "Chad Potinsky already has a badge\n",
      "Dan VanLopik already has a badge\n",
      "Aaron Dana already has a badge\n",
      "Ethan Potinsky already has a badge\n",
      "Ethan Dowd already has a badge\n",
      "Jim Dowd already has a badge\n",
      "Doug Diephouse already has a badge\n",
      "Elijah Hadberg already has a badge\n"
     ]
    }
   ],
   "source": [
    "# iterate through roster_df and print the Name value for eaach row\n",
    "stock_cols = ['Name', 'BadgeID', 'PhotoURL']\n",
    "for index, row in roster_df.iterrows():\n",
    "    name = row['Name']\n",
    "    badge = row['BadgeID']\n",
    "    alt_keys = []\n",
    "    for col in roster_df.columns:\n",
    "        if col not in stock_cols:\n",
    "            val = row[col]\n",
    "            if pd.isna(val):\n",
    "                continue\n",
    "            if col == 'RFIDTag':\n",
    "                val = f'{int(val):010}'\n",
    "            alt_keys.append(val)\n",
    "    url = row['PhotoURL']\n",
    "    url = '' if pd.isna(url) else url\n",
    "    if badge in existing:\n",
    "        print(f\"{name} already has a badge\")\n",
    "    else:\n",
    "        print(f\"{name} does not have a badge {badge}\")\n",
    "        existing[badge] = {\n",
    "            'display_name': name,\n",
    "            'status': 'out',\n",
    "        }\n",
    "    existing[badge]['photo_url'] = url \n",
    "    existing[badge]['alt_keys'] = alt_keys"
   ]
  },
  {
   "cell_type": "code",
   "execution_count": 30,
   "metadata": {},
   "outputs": [],
   "source": [
    "json.dump(existing, open('badges.json', 'w'), indent=4, sort_keys=True)\n"
   ]
  }
 ],
 "metadata": {
  "kernelspec": {
   "display_name": "venv",
   "language": "python",
   "name": "python3"
  },
  "language_info": {
   "codemirror_mode": {
    "name": "ipython",
    "version": 3
   },
   "file_extension": ".py",
   "mimetype": "text/x-python",
   "name": "python",
   "nbconvert_exporter": "python",
   "pygments_lexer": "ipython3",
   "version": "3.11.2"
  }
 },
 "nbformat": 4,
 "nbformat_minor": 2
}
